{
  "cells": [
    {
      "cell_type": "markdown",
      "metadata": {},
      "source": [
        "# Multi-Agent Financial Analysis System - Investment Research Agent\n",
        "\n",
        "## Project Overview\n",
        "This notebook demonstrates the implementation of a multi-agent financial analysis system using the Agno platform, fulfilling the requirements for the AAI-520 Final Team Project.\n",
        "\n",
        "## Team Members\n",
        "- **Marwah Faraj**: Investment Research Agent, Earnings Agent, Workflow Patterns\n",
        "- **Patrick Woo-Sam**: News Agent, Memory Agent\n",
        "- **Atul Prasad**: Market Data Agent, API Tools\n",
        "\n",
        "## Project Requirements\n",
        "- **Agent Functions (33.8%)**: Autonomous agents with planning, tool usage, self-reflection, and learning\n",
        "- **Workflow Patterns (33.8%)**: Prompt Chaining, Routing, Evaluator-Optimizer\n",
        "- **Code (32.4%)**: GitHub repository, PEP 8 compliance, comprehensive documentation\n"
      ]
    },
    {
      "cell_type": "code",
      "execution_count": null,
      "metadata": {},
      "outputs": [],
      "source": [
        "# TODO: Team - Setup and Imports\n",
        "# This cell will contain all necessary imports and setup for the multi-agent system\n",
        "\n",
        "import agno\n",
        "from agents.investment_research_agent import investment_research_agent\n",
        "from agents.earnings_agent import earnings_agent\n",
        "from agents.news_agent import news_agent\n",
        "from agents.memory_agent import memory_agent\n",
        "from agents.market_data_agent import market_data_agent\n",
        "from agents.evaluator_agent import evaluator_agent\n",
        "\n",
        "from workflows.prompt_chaining import news_processing_pipeline\n",
        "from workflows.routing import route_content\n",
        "from workflows.evaluator_optimizer import evaluator_optimizer_workflow\n",
        "\n",
        "print(\"✅ Multi-Agent Financial Analysis System loaded successfully!\")\n",
        "print(\"📊 Available Agents:\")\n",
        "print(\"- Investment Research Agent\")\n",
        "print(\"- Earnings Agent\") \n",
        "print(\"- News Agent\")\n",
        "print(\"- Memory Agent\")\n",
        "print(\"- Market Data Agent\")\n",
        "print(\"- Evaluator Agent\")\n"
      ]
    }
  ],
  "metadata": {
    "language_info": {
      "name": "python"
    }
  },
  "nbformat": 4,
  "nbformat_minor": 2
}
