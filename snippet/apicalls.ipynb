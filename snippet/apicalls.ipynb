{
 "cells": [
  {
   "cell_type": "code",
   "execution_count": 12,
   "id": "9b93e115",
   "metadata": {},
   "outputs": [
    {
     "name": "stdout",
     "output_type": "stream",
     "text": [
      "Requirement already satisfied: python-dotenv in c:\\users\\atul1\\work\\tools\\python3_12\\lib\\site-packages (1.1.1)\n"
     ]
    },
    {
     "name": "stderr",
     "output_type": "stream",
     "text": [
      "\n",
      "[notice] A new release of pip is available: 25.0.1 -> 25.2\n",
      "[notice] To update, run: python.exe -m pip install --upgrade pip\n"
     ]
    }
   ],
   "source": [
    "!pip install python-dotenv\n"
   ]
  },
  {
   "cell_type": "code",
   "execution_count": 13,
   "id": "5c266a91",
   "metadata": {},
   "outputs": [
    {
     "data": {
      "text/plain": [
       "True"
      ]
     },
     "execution_count": 13,
     "metadata": {},
     "output_type": "execute_result"
    }
   ],
   "source": [
    "from __future__ import annotations\n",
    "import os\n",
    "import re\n",
    "import json\n",
    "import time\n",
    "import math\n",
    "import argparse\n",
    "import logging\n",
    "from dataclasses import dataclass, field\n",
    "from datetime import datetime, timedelta\n",
    "from typing import Any, Dict, List, Optional, Tuple\n",
    "from dotenv import load_dotenv\n",
    "\n",
    "import requests\n",
    "import pandas as pd\n",
    "from dateutil import tz\n",
    "\n",
    "try:\n",
    "    import yfinance as yf\n",
    "except ImportError:\n",
    "    yf = None  # System will degrade gracefully\n",
    "\n",
    "# Sentiment (degradable): use NLTK VADER if available; otherwise simple heuristics\n",
    "try:\n",
    "    from nltk.sentiment import SentimentIntensityAnalyzer\n",
    "    _HAS_VADER = True\n",
    "except Exception:\n",
    "    _HAS_VADER = False\n",
    "\n",
    "load_dotenv(\".env\")"
   ]
  },
  {
   "cell_type": "code",
   "execution_count": 14,
   "id": "6e91bfa9",
   "metadata": {},
   "outputs": [
    {
     "name": "stdout",
     "output_type": "stream",
     "text": [
      "=== Market Data Test ===\n",
      "Price        Date       Close        High         Low        Open    Volume\n",
      "Ticker                   AAPL        AAPL        AAPL        AAPL      AAPL\n",
      "0      2025-09-11  230.029999  230.449997  226.649994  226.880005  50208600\n",
      "1      2025-09-12  234.070007  234.509995  229.020004  229.220001  55824200\n",
      "2      2025-09-15  236.699997  238.190002  235.029999  237.000000  42699500\n",
      "3      2025-09-16  238.149994  241.220001  236.320007  237.179993  63421100\n",
      "4      2025-09-17  238.990005  240.100006  237.729996  238.970001  46508000\n",
      "\n",
      "=== News API Test ===\n",
      "- 2025-09-18T20:01:30Z | Anker Japan、最大35W出力の巻取り式USB-Cケーブルを一体化した急速充電器「Anker Nano Charger (35W, Built-In 巻取り式 USB-Cケーブル)」のホワイトモデルを発売。\n",
      "- 2025-09-18T20:01:30Z | Anker Japan、最大35W出力の巻取り式USB-Cケーブルを一体化した急速充電器「Anker Nano Charger (35W, Built-In 巻取り式 USB-Cケーブル)」のホワイトモデルを発売。\n",
      "- 2025-09-18T19:02:02Z | Nvidia CEO Jensen Huang Says 'You Can’t Overstate the Magic' That is Taiwan Semiconductor, But is TSM Stock a Buy at New Highs?\n",
      "\n",
      "=== SEC EDGAR Test ===\n",
      "['cik', 'entityName', 'facts']\n",
      "\n",
      "=== FRED API Test ===\n"
     ]
    },
    {
     "name": "stderr",
     "output_type": "stream",
     "text": [
      "C:\\Users\\atul1\\AppData\\Local\\Temp\\ipykernel_15192\\3998804465.py:72: DeprecationWarning: datetime.datetime.utcnow() is deprecated and scheduled for removal in a future version. Use timezone-aware objects to represent datetimes in UTC: datetime.datetime.now(datetime.UTC).\n",
      "  end = datetime.utcnow().date()\n"
     ]
    },
    {
     "name": "stdout",
     "output_type": "stream",
     "text": [
      "  realtime_start realtime_end       date    value\n",
      "0     2025-09-19   2025-09-19 2025-06-01  321.500\n",
      "1     2025-09-19   2025-09-19 2025-07-01  322.132\n",
      "2     2025-09-19   2025-09-19 2025-08-01  323.364\n"
     ]
    }
   ],
   "source": [
    "\n",
    "def fetch_market_timeseries(symbol: str, days: int = 14) -> pd.DataFrame:\n",
    "    if yf is None:\n",
    "        print(\"yfinance not installed; returning empty DataFrame\")\n",
    "        return pd.DataFrame()\n",
    "    try:\n",
    "        df = yf.download(symbol, period=f\"{days}d\", interval=\"1d\", progress=False)\n",
    "        if not isinstance(df, pd.DataFrame):\n",
    "            return pd.DataFrame()\n",
    "        df.reset_index(inplace=True)\n",
    "        return df\n",
    "    except Exception as e:\n",
    "        print(f\"yfinance error: {e}\")\n",
    "        return pd.DataFrame()\n",
    "\n",
    "\n",
    "def fetch_news_newsapi(\n",
    "    symbol: str, api_key: Optional[str], page_size: int = 10\n",
    ") -> List[Dict[str, Any]]:\n",
    "    if not api_key:\n",
    "        print(\"NEWSAPI_KEY not set; skipping NewsAPI fetch\")\n",
    "        return []\n",
    "    url = \"https://newsapi.org/v2/everything\"\n",
    "    params = {\n",
    "        \"q\": symbol,\n",
    "        \"pageSize\": page_size,\n",
    "        \"sortBy\": \"publishedAt\",\n",
    "        \"language\": \"en\",\n",
    "        \"apiKey\": api_key,\n",
    "    }\n",
    "    try:\n",
    "        r = requests.get(url, params=params, timeout=20)\n",
    "        r.raise_for_status()\n",
    "        data = r.json()\n",
    "        arts = data.get(\"articles\", [])\n",
    "        out = []\n",
    "        for a in arts:\n",
    "            out.append(\n",
    "                {\n",
    "                    \"title\": a.get(\"title\"),\n",
    "                    \"url\": a.get(\"url\"),\n",
    "                    \"publishedAt\": a.get(\"publishedAt\"),\n",
    "                    \"source\": a.get(\"source\", {}).get(\"name\"),\n",
    "                    \"content\": a.get(\"content\") or a.get(\"description\") or \"\",\n",
    "                }\n",
    "            )\n",
    "        return out\n",
    "    except Exception as e:\n",
    "        print(f\"NewsAPI error: {e}\")\n",
    "        return []\n",
    "\n",
    "\n",
    "\n",
    "def fetch_sec_company_facts(symbol: str, app_name: str) -> Dict[str, Any]:\n",
    "    base = f\"https://data.sec.gov/api/xbrl/companyfacts/CIK{symbol}.json\" \n",
    "    headers = {\"User-Agent\": app_name}\n",
    "    try:\n",
    "        r = requests.get(base, headers=headers, timeout=20)\n",
    "        if r.status_code == 200:\n",
    "            return r.json()\n",
    "    except Exception as e:\n",
    "        print(f\"EDGAR fetch skipped/failed: {e}\")\n",
    "    return {}\n",
    "\n",
    "\n",
    "\n",
    "def fetch_fred_series(\n",
    "    series_id: str, api_key: Optional[str], days: int = 365\n",
    ") -> pd.DataFrame:\n",
    "    if not api_key:\n",
    "        print(\"FRED_API_KEY not set; skipping FRED fetch\")\n",
    "        return pd.DataFrame()\n",
    "    end = datetime.utcnow().date()\n",
    "    start = end - timedelta(days=days)\n",
    "    url = \"https://api.stlouisfed.org/fred/series/observations\"\n",
    "    params = {\n",
    "        \"series_id\": series_id,\n",
    "        \"api_key\": api_key,\n",
    "        \"file_type\": \"json\",\n",
    "        \"observation_start\": start.isoformat(),\n",
    "        \"observation_end\": end.isoformat(),\n",
    "    }\n",
    "    try:\n",
    "        r = requests.get(url, params=params, timeout=20)\n",
    "        r.raise_for_status()\n",
    "        obs = r.json().get(\"observations\", [])\n",
    "        df = pd.DataFrame(obs)\n",
    "        if not df.empty:\n",
    "            df[\"value\"] = pd.to_numeric(df[\"value\"], errors=\"coerce\")\n",
    "            df[\"date\"] = pd.to_datetime(df[\"date\"])  # NaT for bad\n",
    "        return df\n",
    "    except Exception as e:\n",
    "        print(f\"FRED error: {e}\")\n",
    "        return pd.DataFrame()\n",
    "\n",
    "\n",
    "\n",
    "if __name__ == \"__main__\":\n",
    "\n",
    "    # --- Market Data (Yahoo Finance) ---\n",
    "    print(\"=== Market Data Test ===\")\n",
    "    df_market = fetch_market_timeseries(\"AAPL\", days=7)\n",
    "    print(df_market.head())   # show first rows\n",
    "\n",
    "    # --- News API ---\n",
    "    print(\"\\n=== News API Test ===\")\n",
    "    news_key = os.getenv(\"NEWSAPI_KEY\")  # make sure this is set in your environment\n",
    "    news_items = fetch_news_newsapi(\"AAPL\", news_key, page_size=3)\n",
    "    for n in news_items:\n",
    "        print(f\"- {n['publishedAt']} | {n['title']}\")\n",
    "\n",
    "    # --- SEC EDGAR (⚠️ needs CIK, not ticker) ---\n",
    "    print(\"\\n=== SEC EDGAR Test ===\")\n",
    "    # Apple’s CIK is 0000320193\n",
    "    sec_data = fetch_sec_company_facts(\"0000320193\", \"AtulPrasad-FDataProject/1.0\")\n",
    "    print(list(sec_data.keys())[:10])   # just show top-level keys\n",
    "\n",
    "    # --- FRED Macro Series ---\n",
    "    print(\"\\n=== FRED API Test ===\")\n",
    "    fred_key = os.getenv(\"FRED_API_KEY\")\n",
    "    df_fred = fetch_fred_series(\"CPIAUCSL\", fred_key, days=90)  # CPI series\n",
    "    print(df_fred.head())\n"
   ]
  }
 ],
 "metadata": {
  "kernelspec": {
   "display_name": "Python 3",
   "language": "python",
   "name": "python3"
  },
  "language_info": {
   "codemirror_mode": {
    "name": "ipython",
    "version": 3
   },
   "file_extension": ".py",
   "mimetype": "text/x-python",
   "name": "python",
   "nbconvert_exporter": "python",
   "pygments_lexer": "ipython3",
   "version": "3.12.2"
  }
 },
 "nbformat": 4,
 "nbformat_minor": 5
}
